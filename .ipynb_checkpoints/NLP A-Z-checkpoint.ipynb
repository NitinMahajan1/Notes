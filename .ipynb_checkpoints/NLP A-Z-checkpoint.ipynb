{
 "cells": [
  {
   "cell_type": "markdown",
   "metadata": {},
   "source": [
    "***Below are some major NLP libraries - ***\n",
    "\n",
    "NLTK, spaCy, Stanford NLP, OpenNLP"
   ]
  },
  {
   "cell_type": "markdown",
   "metadata": {
    "ExecuteTime": {
     "end_time": "2018-12-03T22:41:56.047349Z",
     "start_time": "2018-12-03T22:41:56.040369Z"
    }
   },
   "source": [
    "BOW Model - It's a NLP model used to preprocess text before fitting the classification algorithm on the observations contatining the text.\n"
   ]
  },
  {
   "cell_type": "markdown",
   "metadata": {},
   "source": [
    "***Goal***\n",
    "1. Clean texts to prepare them for ML models,\n",
    "2. Create BOW Model\n",
    "3. Apply ML models to this BOW model"
   ]
  },
  {
   "cell_type": "code",
   "execution_count": null,
   "metadata": {},
   "outputs": [],
   "source": []
  }
 ],
 "metadata": {
  "kernelspec": {
   "display_name": "Python 3",
   "language": "python",
   "name": "python3"
  },
  "language_info": {
   "codemirror_mode": {
    "name": "ipython",
    "version": 3
   },
   "file_extension": ".py",
   "mimetype": "text/x-python",
   "name": "python",
   "nbconvert_exporter": "python",
   "pygments_lexer": "ipython3",
   "version": "3.6.7"
  }
 },
 "nbformat": 4,
 "nbformat_minor": 2
}
